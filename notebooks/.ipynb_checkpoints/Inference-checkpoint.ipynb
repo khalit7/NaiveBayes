{
 "cells": [
  {
   "cell_type": "code",
   "execution_count": 6,
   "id": "e4055c70-89fe-44fa-aea9-1abf0f0fd9b8",
   "metadata": {},
   "outputs": [
    {
     "data": {
      "text/plain": [
       "<module 'model' from '/Users/khalid/personal_nlp_playground/naive_bayes/notebooks/../utils/model.py'>"
      ]
     },
     "execution_count": 6,
     "metadata": {},
     "output_type": "execute_result"
    }
   ],
   "source": [
    "from torchtext.datasets import AmazonReviewPolarity\n",
    "from torchtext.data.utils import get_tokenizer\n",
    "\n",
    "import numpy as np\n",
    "\n",
    "import sys\n",
    "sys.path.append(\"../utils\")\n",
    "\n",
    "import importlib\n",
    "\n",
    "import constants as CONSTANTS\n",
    "import dataset\n",
    "import model\n",
    "importlib.reload(CONSTANTS)\n",
    "importlib.reload(dataset)\n",
    "importlib.reload(model)"
   ]
  },
  {
   "cell_type": "markdown",
   "id": "af2330df-cd90-408c-bd25-441f2262e48e",
   "metadata": {},
   "source": [
    "# load the model"
   ]
  },
  {
   "cell_type": "code",
   "execution_count": 7,
   "id": "70dcec0a-5a0d-45da-994f-e12f15cc8989",
   "metadata": {},
   "outputs": [],
   "source": [
    "NB_model = model.NaiveBayesModel()\n",
    "NB_model.load_parameters(\"../params\")"
   ]
  },
  {
   "cell_type": "markdown",
   "id": "54ffa92c-517c-4f45-8c24-a9e8c24a392a",
   "metadata": {},
   "source": [
    "# test the model on custom text"
   ]
  },
  {
   "cell_type": "code",
   "execution_count": 11,
   "id": "1fcadc3b-0c8b-443c-ac4f-50b78334461b",
   "metadata": {},
   "outputs": [
    {
     "data": {
      "text/plain": [
       "'POSITIVE'"
      ]
     },
     "execution_count": 11,
     "metadata": {},
     "output_type": "execute_result"
    }
   ],
   "source": [
    "NB_model(\"I love this product!!!\")"
   ]
  },
  {
   "cell_type": "code",
   "execution_count": 12,
   "id": "76d275a1-a1d2-4280-b884-afb9524b69b2",
   "metadata": {},
   "outputs": [
    {
     "data": {
      "text/plain": [
       "'POSITIVE'"
      ]
     },
     "execution_count": 12,
     "metadata": {},
     "output_type": "execute_result"
    }
   ],
   "source": [
    "NB_model(\"I freaking love this product!!!\")"
   ]
  },
  {
   "cell_type": "code",
   "execution_count": 13,
   "id": "82a8e8a9-2648-40ca-9868-4035aabf3e1a",
   "metadata": {},
   "outputs": [
    {
     "data": {
      "text/plain": [
       "'NEGATIVE'"
      ]
     },
     "execution_count": 13,
     "metadata": {},
     "output_type": "execute_result"
    }
   ],
   "source": [
    "NB_model(\"I thought I loved this product, but after using it for a couple of days, i dont like it anymore\")"
   ]
  },
  {
   "cell_type": "code",
   "execution_count": 19,
   "id": "fc1968dd-7a9a-4a00-84b7-2b0330b41f94",
   "metadata": {},
   "outputs": [
    {
     "data": {
      "text/plain": [
       "'POSITIVE'"
      ]
     },
     "execution_count": 19,
     "metadata": {},
     "output_type": "execute_result"
    }
   ],
   "source": [
    "NB_model(\"I will definitely buy it again\")"
   ]
  },
  {
   "cell_type": "code",
   "execution_count": 20,
   "id": "9be72fe1-a68d-4208-a093-3db506a82b7e",
   "metadata": {},
   "outputs": [
    {
     "data": {
      "text/plain": [
       "'NEGATIVE'"
      ]
     },
     "execution_count": 20,
     "metadata": {},
     "output_type": "execute_result"
    }
   ],
   "source": [
    "NB_model(\"I will definitely not buy it again\")"
   ]
  }
 ],
 "metadata": {
  "kernelspec": {
   "display_name": "Python [conda env:nlp_env]",
   "language": "python",
   "name": "conda-env-nlp_env-py"
  },
  "language_info": {
   "codemirror_mode": {
    "name": "ipython",
    "version": 3
   },
   "file_extension": ".py",
   "mimetype": "text/x-python",
   "name": "python",
   "nbconvert_exporter": "python",
   "pygments_lexer": "ipython3",
   "version": "3.10.9"
  }
 },
 "nbformat": 4,
 "nbformat_minor": 5
}
