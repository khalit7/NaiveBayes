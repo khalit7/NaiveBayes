{
 "cells": [
  {
   "cell_type": "code",
   "execution_count": 5,
   "id": "8aca16d6-d9e3-46ec-9c82-505341ec1f61",
   "metadata": {},
   "outputs": [
    {
     "data": {
      "text/plain": [
       "<module 'model' from '/Users/khalid/personal_nlp_playground/naive_bayes/notebooks/../utils/model.py'>"
      ]
     },
     "execution_count": 5,
     "metadata": {},
     "output_type": "execute_result"
    }
   ],
   "source": [
    "from torchtext.datasets import AmazonReviewPolarity\n",
    "from torchtext.data.utils import get_tokenizer\n",
    "\n",
    "import numpy as np\n",
    "\n",
    "import sys\n",
    "sys.path.append(\"../utils\")\n",
    "\n",
    "import importlib\n",
    "\n",
    "import constants as CONSTANTS\n",
    "import dataset\n",
    "import model\n",
    "importlib.reload(CONSTANTS)\n",
    "importlib.reload(dataset)\n",
    "importlib.reload(model)"
   ]
  },
  {
   "cell_type": "markdown",
   "id": "fe6ce707-9db8-49c0-953e-a4a793775a90",
   "metadata": {},
   "source": [
    "# Create the Model"
   ]
  },
  {
   "cell_type": "code",
   "execution_count": 2,
   "id": "a6b3f0f7-e40a-48f0-8a35-4b85bf5ab29e",
   "metadata": {},
   "outputs": [
    {
     "name": "stdout",
     "output_type": "stream",
     "text": [
      "building vocabulary from dataset ...  Done!\n",
      "..........................Estimating P(y) and P(X/y) by calculating counts..........................\n",
      "***Finished processing 500000 examples\n",
      "***Finished processing 1000000 examples\n",
      "***Finished processing 1500000 examples\n",
      "***Finished processing 2000000 examples\n",
      "***Finished processing 2500000 examples\n",
      "***Finished processing 3000000 examples\n",
      "***Finished processing 3500000 examples\n",
      "...............................................Done!................................................\n"
     ]
    }
   ],
   "source": [
    "NB_model = model.NaiveBayesModel()\n",
    "NB_model.get_vocab_and_tokenizer(dataset._get_data_itr(\"train\"))\n",
    "NB_model.estimate_parameters_from_data(dataset._get_data_itr(\"train\"))\n",
    "NB_model.save_parameters(\"../params\")\n"
   ]
  },
  {
   "cell_type": "markdown",
   "id": "bf7b512a-67ae-4acb-a1c1-aed88c287a9f",
   "metadata": {},
   "source": [
    "# calculate performance on test set"
   ]
  },
  {
   "cell_type": "code",
   "execution_count": 3,
   "id": "5233ca67-47c3-4383-83c8-55e63aa1e09d",
   "metadata": {},
   "outputs": [
    {
     "data": {
      "text/plain": [
       "{'0': {'precision': 0.8415466005212825,\n",
       "  'recall': 0.868535,\n",
       "  'f1-score': 0.8548278356552678,\n",
       "  'support': 200000},\n",
       " '1': {'precision': 0.8641792278367237,\n",
       "  'recall': 0.836465,\n",
       "  'f1-score': 0.8500962940755006,\n",
       "  'support': 200000},\n",
       " 'accuracy': 0.8525,\n",
       " 'macro avg': {'precision': 0.8528629141790032,\n",
       "  'recall': 0.8525,\n",
       "  'f1-score': 0.8524620648653842,\n",
       "  'support': 400000},\n",
       " 'weighted avg': {'precision': 0.8528629141790032,\n",
       "  'recall': 0.8525,\n",
       "  'f1-score': 0.8524620648653841,\n",
       "  'support': 400000}}"
      ]
     },
     "execution_count": 3,
     "metadata": {},
     "output_type": "execute_result"
    }
   ],
   "source": [
    "data_itr = dataset._get_data_itr(\"test\")\n",
    "NB_model.calculate_performance_on_data(data_itr)"
   ]
  }
 ],
 "metadata": {
  "kernelspec": {
   "display_name": "Python [conda env:nlp_env]",
   "language": "python",
   "name": "conda-env-nlp_env-py"
  },
  "language_info": {
   "codemirror_mode": {
    "name": "ipython",
    "version": 3
   },
   "file_extension": ".py",
   "mimetype": "text/x-python",
   "name": "python",
   "nbconvert_exporter": "python",
   "pygments_lexer": "ipython3",
   "version": "3.10.9"
  }
 },
 "nbformat": 4,
 "nbformat_minor": 5
}
