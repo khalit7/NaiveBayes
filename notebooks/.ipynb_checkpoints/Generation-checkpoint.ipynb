{
 "cells": [
  {
   "cell_type": "code",
   "execution_count": 1,
   "id": "dfb3f011-af37-4fd3-8eed-63c41d284c3f",
   "metadata": {},
   "outputs": [
    {
     "name": "stderr",
     "output_type": "stream",
     "text": [
      "/Users/khalid/opt/anaconda3/envs/nlp_env/lib/python3.10/site-packages/tqdm/auto.py:22: TqdmWarning: IProgress not found. Please update jupyter and ipywidgets. See https://ipywidgets.readthedocs.io/en/stable/user_install.html\n",
      "  from .autonotebook import tqdm as notebook_tqdm\n"
     ]
    },
    {
     "data": {
      "text/plain": [
       "<module 'model' from '/Users/khalid/personal_nlp_playground/naive_bayes/notebooks/../utils/model.py'>"
      ]
     },
     "execution_count": 1,
     "metadata": {},
     "output_type": "execute_result"
    }
   ],
   "source": [
    "from torchtext.datasets import AmazonReviewPolarity\n",
    "from torchtext.data.utils import get_tokenizer\n",
    "\n",
    "import numpy as np\n",
    "\n",
    "import sys\n",
    "sys.path.append(\"../utils\")\n",
    "\n",
    "import importlib\n",
    "\n",
    "import constants as CONSTANTS\n",
    "import dataset\n",
    "import model\n",
    "importlib.reload(CONSTANTS)\n",
    "importlib.reload(dataset)\n",
    "importlib.reload(model)"
   ]
  },
  {
   "cell_type": "markdown",
   "id": "2a1a382b-2723-4a3a-a033-939ee1a518e1",
   "metadata": {},
   "source": [
    "# load the model"
   ]
  },
  {
   "cell_type": "code",
   "execution_count": 2,
   "id": "c903bf5a-adef-4215-a126-bd6898382082",
   "metadata": {},
   "outputs": [],
   "source": [
    "NB_model = model.NaiveBayesModel()\n",
    "NB_model.load_parameters(\"../params\")"
   ]
  },
  {
   "cell_type": "markdown",
   "id": "d6f1aab6-df8e-4f75-a41d-3f19506e6323",
   "metadata": {},
   "source": [
    "# generate some text"
   ]
  },
  {
   "cell_type": "code",
   "execution_count": 9,
   "id": "a0222b29-357f-4468-a303-4ad643992e26",
   "metadata": {},
   "outputs": [
    {
     "data": {
      "text/plain": [
       "\", the and some . <unk> the make as digital that i is system not . useful they to space it it free one <unk> ! adopted printer ' for topics all do . substantially of , the the very had p . good this and that drugs to god\""
      ]
     },
     "execution_count": 9,
     "metadata": {},
     "output_type": "execute_result"
    }
   ],
   "source": [
    "label = 0 # negative\n",
    "NB_model.generate_text(label,num_words=50)"
   ]
  },
  {
   "cell_type": "code",
   "execution_count": 10,
   "id": "74557c07-4e51-4186-973e-1908c84fb503",
   "metadata": {},
   "outputs": [
    {
     "data": {
      "text/plain": [
       "\"interested and many ' soulful and . write reason second mirror brings when but it there tormented end said directed of always of . be while replace cd-rom . is would entertaining . the sufficed in on ' protect information of and emergency the ! . . episode debut a\""
      ]
     },
     "execution_count": 10,
     "metadata": {},
     "output_type": "execute_result"
    }
   ],
   "source": [
    "label = 1 # positive\n",
    "NB_model.generate_text(label,num_words=50)"
   ]
  },
  {
   "cell_type": "code",
   "execution_count": null,
   "id": "2b269b0d-d165-4dee-aaa9-4522e05742cf",
   "metadata": {},
   "outputs": [],
   "source": []
  }
 ],
 "metadata": {
  "kernelspec": {
   "display_name": "Python [conda env:nlp_env]",
   "language": "python",
   "name": "conda-env-nlp_env-py"
  },
  "language_info": {
   "codemirror_mode": {
    "name": "ipython",
    "version": 3
   },
   "file_extension": ".py",
   "mimetype": "text/x-python",
   "name": "python",
   "nbconvert_exporter": "python",
   "pygments_lexer": "ipython3",
   "version": "3.10.9"
  }
 },
 "nbformat": 4,
 "nbformat_minor": 5
}
